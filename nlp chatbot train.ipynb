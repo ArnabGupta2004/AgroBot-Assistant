{
 "cells": [
  {
   "cell_type": "code",
   "execution_count": 1,
   "id": "351acc46-c520-4db5-ae49-0b741efcab34",
   "metadata": {},
   "outputs": [],
   "source": [
    "# Basic dependencies\n",
    "import numpy as np\n",
    "import pandas as pd\n",
    "\n",
    "# Text preprocessing\n",
    "import nltk\n",
    "from nltk.corpus import stopwords\n",
    "from nltk.stem import WordNetLemmatizer\n",
    "import re\n",
    "\n",
    "# ML tools\n",
    "from sklearn.feature_extraction.text import TfidfVectorizer\n",
    "from sklearn.model_selection import train_test_split\n",
    "from sklearn.linear_model import LogisticRegression\n",
    "from sklearn.metrics import classification_report, confusion_matrix\n",
    "\n",
    "# Download necessary NLTK resources (run once)\n",
    "#nltk.download('punkt')\n",
    "#nltk.download('stopwords')\n",
    "#nltk.download('wordnet')\n",
    "#nltk.download('punkt_tab')"
   ]
  },
  {
   "cell_type": "code",
   "execution_count": 3,
   "id": "2da19cc6-3c5e-482f-a0da-cdde9f56fcdb",
   "metadata": {},
   "outputs": [
    {
     "data": {
      "text/html": [
       "<div>\n",
       "<style scoped>\n",
       "    .dataframe tbody tr th:only-of-type {\n",
       "        vertical-align: middle;\n",
       "    }\n",
       "\n",
       "    .dataframe tbody tr th {\n",
       "        vertical-align: top;\n",
       "    }\n",
       "\n",
       "    .dataframe thead th {\n",
       "        text-align: right;\n",
       "    }\n",
       "</style>\n",
       "<table border=\"1\" class=\"dataframe\">\n",
       "  <thead>\n",
       "    <tr style=\"text-align: right;\">\n",
       "      <th></th>\n",
       "      <th>pattern</th>\n",
       "      <th>tag</th>\n",
       "    </tr>\n",
       "  </thead>\n",
       "  <tbody>\n",
       "    <tr>\n",
       "      <th>0</th>\n",
       "      <td>Which crop should I grow this season?</td>\n",
       "      <td>crop_recommendation</td>\n",
       "    </tr>\n",
       "    <tr>\n",
       "      <th>1</th>\n",
       "      <td>Suggest me a good crop to plant now</td>\n",
       "      <td>crop_recommendation</td>\n",
       "    </tr>\n",
       "    <tr>\n",
       "      <th>2</th>\n",
       "      <td>Best crop to sow this year</td>\n",
       "      <td>crop_recommendation</td>\n",
       "    </tr>\n",
       "    <tr>\n",
       "      <th>3</th>\n",
       "      <td>What should I cultivate in my farm?</td>\n",
       "      <td>crop_recommendation</td>\n",
       "    </tr>\n",
       "    <tr>\n",
       "      <th>4</th>\n",
       "      <td>Tell me which crop fits my land</td>\n",
       "      <td>crop_recommendation</td>\n",
       "    </tr>\n",
       "  </tbody>\n",
       "</table>\n",
       "</div>"
      ],
      "text/plain": [
       "                                 pattern                  tag\n",
       "0  Which crop should I grow this season?  crop_recommendation\n",
       "1    Suggest me a good crop to plant now  crop_recommendation\n",
       "2             Best crop to sow this year  crop_recommendation\n",
       "3    What should I cultivate in my farm?  crop_recommendation\n",
       "4        Tell me which crop fits my land  crop_recommendation"
      ]
     },
     "execution_count": 3,
     "metadata": {},
     "output_type": "execute_result"
    }
   ],
   "source": [
    "import json\n",
    "\n",
    "with open(\"farmer_chatbot_intents.json\", \"r\") as f:\n",
    "    data = json.load(f)\n",
    "\n",
    "# Flatten into dataframe\n",
    "patterns = []\n",
    "tags = []\n",
    "\n",
    "for intent in data['intents']:\n",
    "    for pattern in intent['patterns']:\n",
    "        patterns.append(pattern)\n",
    "        tags.append(intent['tag'])\n",
    "\n",
    "df = pd.DataFrame({\"pattern\": patterns, \"tag\": tags})\n",
    "df.head()\n"
   ]
  },
  {
   "cell_type": "code",
   "execution_count": 4,
   "id": "b20c1174-689e-4936-a863-197219c40e01",
   "metadata": {},
   "outputs": [
    {
     "data": {
      "text/html": [
       "<div>\n",
       "<style scoped>\n",
       "    .dataframe tbody tr th:only-of-type {\n",
       "        vertical-align: middle;\n",
       "    }\n",
       "\n",
       "    .dataframe tbody tr th {\n",
       "        vertical-align: top;\n",
       "    }\n",
       "\n",
       "    .dataframe thead th {\n",
       "        text-align: right;\n",
       "    }\n",
       "</style>\n",
       "<table border=\"1\" class=\"dataframe\">\n",
       "  <thead>\n",
       "    <tr style=\"text-align: right;\">\n",
       "      <th></th>\n",
       "      <th>pattern</th>\n",
       "      <th>tag</th>\n",
       "      <th>clean_pattern</th>\n",
       "    </tr>\n",
       "  </thead>\n",
       "  <tbody>\n",
       "    <tr>\n",
       "      <th>0</th>\n",
       "      <td>Which crop should I grow this season?</td>\n",
       "      <td>crop_recommendation</td>\n",
       "      <td>crop grow season</td>\n",
       "    </tr>\n",
       "    <tr>\n",
       "      <th>1</th>\n",
       "      <td>Suggest me a good crop to plant now</td>\n",
       "      <td>crop_recommendation</td>\n",
       "      <td>suggest good crop plant</td>\n",
       "    </tr>\n",
       "    <tr>\n",
       "      <th>2</th>\n",
       "      <td>Best crop to sow this year</td>\n",
       "      <td>crop_recommendation</td>\n",
       "      <td>best crop sow year</td>\n",
       "    </tr>\n",
       "    <tr>\n",
       "      <th>3</th>\n",
       "      <td>What should I cultivate in my farm?</td>\n",
       "      <td>crop_recommendation</td>\n",
       "      <td>cultivate farm</td>\n",
       "    </tr>\n",
       "    <tr>\n",
       "      <th>4</th>\n",
       "      <td>Tell me which crop fits my land</td>\n",
       "      <td>crop_recommendation</td>\n",
       "      <td>tell crop fit land</td>\n",
       "    </tr>\n",
       "  </tbody>\n",
       "</table>\n",
       "</div>"
      ],
      "text/plain": [
       "                                 pattern                  tag  \\\n",
       "0  Which crop should I grow this season?  crop_recommendation   \n",
       "1    Suggest me a good crop to plant now  crop_recommendation   \n",
       "2             Best crop to sow this year  crop_recommendation   \n",
       "3    What should I cultivate in my farm?  crop_recommendation   \n",
       "4        Tell me which crop fits my land  crop_recommendation   \n",
       "\n",
       "             clean_pattern  \n",
       "0         crop grow season  \n",
       "1  suggest good crop plant  \n",
       "2       best crop sow year  \n",
       "3           cultivate farm  \n",
       "4       tell crop fit land  "
      ]
     },
     "execution_count": 4,
     "metadata": {},
     "output_type": "execute_result"
    }
   ],
   "source": [
    "lemmatizer = WordNetLemmatizer()\n",
    "stop_words = set(stopwords.words('english'))\n",
    "\n",
    "def clean_text(text):\n",
    "    text = text.lower()\n",
    "    text = re.sub(r\"[^a-zA-Z\\s]\", \"\", text)\n",
    "    tokens = nltk.word_tokenize(text)\n",
    "    tokens = [lemmatizer.lemmatize(w) for w in tokens if w not in stop_words]\n",
    "    return \" \".join(tokens)\n",
    "\n",
    "df[\"clean_pattern\"] = df[\"pattern\"].apply(clean_text)\n",
    "df.head()\n"
   ]
  },
  {
   "cell_type": "code",
   "execution_count": 73,
   "id": "d7539c27-c015-49e9-99e5-7c7f209c711b",
   "metadata": {},
   "outputs": [
    {
     "name": "stdout",
     "output_type": "stream",
     "text": [
      "Feature matrix shape: (396, 453)\n"
     ]
    }
   ],
   "source": [
    "# TF-IDF vectorization\n",
    "vectorizer = TfidfVectorizer()\n",
    "X = vectorizer.fit_transform(df[\"clean_pattern\"])\n",
    "y = df[\"tag\"]\n",
    "\n",
    "print(\"Feature matrix shape:\", X.shape)\n"
   ]
  },
  {
   "cell_type": "code",
   "execution_count": 74,
   "id": "c522338d-9c5f-4b68-92cc-929dfd99c9c1",
   "metadata": {},
   "outputs": [
    {
     "name": "stdout",
     "output_type": "stream",
     "text": [
      "Train size: 316\n",
      "Test size: 80\n"
     ]
    }
   ],
   "source": [
    "X_train, X_test, y_train, y_test = train_test_split(\n",
    "    X, y, test_size=0.2, random_state=42, stratify=y\n",
    ")\n",
    "\n",
    "print(\"Train size:\", X_train.shape[0])\n",
    "print(\"Test size:\", X_test.shape[0])\n"
   ]
  },
  {
   "cell_type": "code",
   "execution_count": 75,
   "id": "19e8ff5f-34b7-433e-9672-b5fe21707798",
   "metadata": {},
   "outputs": [
    {
     "name": "stdout",
     "output_type": "stream",
     "text": [
      "Training complete ✅\n"
     ]
    }
   ],
   "source": [
    "# Logistic Regression baseline classifier\n",
    "model = LogisticRegression(max_iter=1000)\n",
    "model.fit(X_train, y_train)\n",
    "\n",
    "print(\"Training complete ✅\")"
   ]
  },
  {
   "cell_type": "code",
   "execution_count": 76,
   "id": "d4307ced-400d-4fa6-92e7-40bb00644fb9",
   "metadata": {},
   "outputs": [
    {
     "name": "stdout",
     "output_type": "stream",
     "text": [
      "Classification Report:\n",
      "\n",
      "                             precision    recall  f1-score   support\n",
      "\n",
      "        crop_recommendation       0.62      0.73      0.67        11\n",
      "          disease_detection       0.75      0.55      0.63        11\n",
      "                   fallback       0.56      0.82      0.67        11\n",
      "fertilizer_pesticide_advice       1.00      0.82      0.90        11\n",
      "                  greetings       1.00      0.67      0.80         6\n",
      "          market_price_info       1.00      1.00      1.00        10\n",
      "                soil_health       0.82      0.90      0.86        10\n",
      "              weather_query       0.78      0.70      0.74        10\n",
      "\n",
      "                   accuracy                           0.78        80\n",
      "                  macro avg       0.82      0.77      0.78        80\n",
      "               weighted avg       0.80      0.78      0.78        80\n",
      "\n",
      "Confusion Matrix:\n",
      "\n",
      "[[ 8  2  1  0  0  0  0  0]\n",
      " [ 5  6  0  0  0  0  0  0]\n",
      " [ 0  0  9  0  0  0  0  2]\n",
      " [ 0  0  0  9  0  0  2  0]\n",
      " [ 0  0  2  0  4  0  0  0]\n",
      " [ 0  0  0  0  0 10  0  0]\n",
      " [ 0  0  1  0  0  0  9  0]\n",
      " [ 0  0  3  0  0  0  0  7]]\n"
     ]
    }
   ],
   "source": [
    "y_pred = model.predict(X_test)\n",
    "\n",
    "print(\"Classification Report:\\n\")\n",
    "print(classification_report(y_test, y_pred, zero_division=0))\n",
    "\n",
    "print(\"Confusion Matrix:\\n\")\n",
    "print(confusion_matrix(y_test, y_pred))\n"
   ]
  },
  {
   "cell_type": "code",
   "execution_count": 6,
   "id": "180f46f8-6df4-450b-b35d-04e5fb885ce2",
   "metadata": {},
   "outputs": [
    {
     "name": "stdout",
     "output_type": "stream",
     "text": [
      "greetings\n"
     ]
    }
   ],
   "source": [
    "import joblib\n",
    "\n",
    "model = joblib.load(\"intent_model.pkl\")\n",
    "vectorizer = joblib.load(\"vectorizer.pkl\")\n",
    "\n",
    "def predict_intent(user_input):\n",
    "    cleaned = clean_text(user_input)\n",
    "    vec = vectorizer.transform([cleaned])\n",
    "    tag = model.predict(vec)[0]\n",
    "    return tag\n",
    "\n",
    "# Test it\n",
    "print(predict_intent(\"Hi?\"))"
   ]
  },
  {
   "cell_type": "code",
   "execution_count": 89,
   "id": "fb48b6ea-05c9-420d-bac5-d1414a59b95c",
   "metadata": {},
   "outputs": [
    {
     "name": "stdout",
     "output_type": "stream",
     "text": [
      "Hello! How can I assist you with your farming needs today?\n",
      "I can check market prices for you. Please specify the crop and location.\n"
     ]
    }
   ],
   "source": [
    "def get_response(user_input):\n",
    "    tag = predict_intent(user_input)\n",
    "    # Find corresponding responses\n",
    "    for intent in data[\"intents\"]:\n",
    "        if intent[\"tag\"] == tag:\n",
    "            return np.random.choice(intent[\"responses\"])\n",
    "\n",
    "# Try it\n",
    "print(get_response(\"Hello\"))\n",
    "print(get_response(\"What is the price for crop\"))\n"
   ]
  },
  {
   "cell_type": "code",
   "execution_count": 88,
   "id": "2168857d-c72f-4092-87eb-3314361b17dd",
   "metadata": {},
   "outputs": [
    {
     "name": "stdout",
     "output_type": "stream",
     "text": [
      "✅ Model and vectorizer saved successfully!\n"
     ]
    }
   ],
   "source": [
    "import joblib\n",
    "\n",
    "joblib.dump(model, \"intent_model.pkl\")\n",
    "\n",
    "joblib.dump(vectorizer, \"vectorizer.pkl\")\n",
    "\n",
    "print(\"✅ Model and vectorizer saved successfully!\")\n"
   ]
  },
  {
   "cell_type": "code",
   "execution_count": null,
   "id": "1317d8f7-4204-475e-bfac-c6d3dcbd10c9",
   "metadata": {},
   "outputs": [],
   "source": []
  }
 ],
 "metadata": {
  "kernelspec": {
   "display_name": "Python 3.10 (sih10)",
   "language": "python",
   "name": "sih10"
  },
  "language_info": {
   "codemirror_mode": {
    "name": "ipython",
    "version": 3
   },
   "file_extension": ".py",
   "mimetype": "text/x-python",
   "name": "python",
   "nbconvert_exporter": "python",
   "pygments_lexer": "ipython3",
   "version": "3.10.11"
  }
 },
 "nbformat": 4,
 "nbformat_minor": 5
}
